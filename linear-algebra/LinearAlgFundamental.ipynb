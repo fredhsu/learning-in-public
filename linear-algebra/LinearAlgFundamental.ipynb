{
 "cells": [
  {
   "cell_type": "markdown",
   "id": "ca178373-734f-439f-8493-63bd4d13f820",
   "metadata": {},
   "source": [
    "## Linear Algebra Fundamentals\n",
    "- **Practice** : Implement matrix operations, solve linear equations with NumPy \n",
    "- **Assignment** : Build PCA from scratch using only NumPy"
   ]
  },
  {
   "cell_type": "markdown",
   "id": "edcb2372-764f-40f2-9273-65ae67a2ddd6",
   "metadata": {},
   "source": [
    "The primary matrix operations are: \n",
    "Addition: Adding corresponding elements of two matrices of the same size.\n",
    "Subtraction: Subtracting corresponding elements of two matrices of the same size.\n",
    "Scalar Multiplication: Multiplying each element of a matrix by a constant.\n",
    "Matrix Multiplication: Multiplying two matrices (requires the number of columns in the first matrix to equal the number of rows in the second matrix).\n",
    "Transpose: Swapping the rows and columns of a matrix.\n",
    "Inverse: Finding a matrix that, when multiplied by the original matrix, results in the identity matrix (only applicable to square, non-singular matrices). "
   ]
  },
  {
   "cell_type": "code",
   "execution_count": 14,
   "id": "ae60de96-b314-4143-acd6-6bc7a4be0c7c",
   "metadata": {},
   "outputs": [],
   "source": [
    "import numpy as np"
   ]
  },
  {
   "cell_type": "code",
   "execution_count": 15,
   "id": "feed9622-6133-4726-a303-eb0f01f03a74",
   "metadata": {},
   "outputs": [],
   "source": [
    "def add_2d_matrices(a, b):\n",
    "    # creating a matix with the same dimensions as a\n",
    "    c = np.empty_like(a) # found this in the numpy docs for array creation: \n",
    "    # https://numpy.org/doc/2.2/reference/routines.array-creation.html#routines-array-creation\n",
    "    # iterate through each value in a and b, adding them and storing \n",
    "    # in the matrix c\n",
    "    for i in range(0,a.shape[0]):\n",
    "        for j in range(0,a.shape[1]): \n",
    "            c[i][j] = a[i][j] + b[i][j]\n",
    "        \n",
    "    return c"
   ]
  },
  {
   "cell_type": "code",
   "execution_count": 16,
   "id": "44cdde2b-6308-4f9a-a8a4-82007c02b225",
   "metadata": {},
   "outputs": [],
   "source": [
    "# mostly the same as adding, just subracting instead\n",
    "def sub_2d_matrices(a, b):\n",
    "    c = np.empty_like(a)\n",
    "    for i in range(0,a.shape[0]):\n",
    "        for j in range(0,a.shape[1]): \n",
    "            c[i][j] = a[i][j] - b[i][j]        \n",
    "    return c"
   ]
  },
  {
   "cell_type": "code",
   "execution_count": 6,
   "id": "390fbffa-d799-4c8c-b7c7-bdf1cc966c56",
   "metadata": {},
   "outputs": [
    {
     "data": {
      "text/plain": [
       "array([[ 8, 10, 12],\n",
       "       [14, 16, 18]], dtype=int32)"
      ]
     },
     "execution_count": 6,
     "metadata": {},
     "output_type": "execute_result"
    }
   ],
   "source": [
    "x = np.array([[1, 2, 3], [4, 5, 6]], np.int32)\n",
    "y = np.array([[7, 8, 9], [10, 11, 12]], np.int32)\n"
   ]
  },
  {
   "cell_type": "code",
   "execution_count": 12,
   "id": "1815582b-0a10-4468-9c4c-aea6b19397d3",
   "metadata": {},
   "outputs": [
    {
     "data": {
      "text/plain": [
       "array([[ 8, 10, 12],\n",
       "       [14, 16, 18]], dtype=int32)"
      ]
     },
     "execution_count": 12,
     "metadata": {},
     "output_type": "execute_result"
    }
   ],
   "source": [
    "add_2d_matrices(x,y)"
   ]
  },
  {
   "cell_type": "code",
   "execution_count": 13,
   "id": "08ba912e-e527-4440-8c83-567e34f5d48c",
   "metadata": {},
   "outputs": [
    {
     "data": {
      "text/plain": [
       "array([[ True,  True,  True],\n",
       "       [ True,  True,  True]])"
      ]
     },
     "execution_count": 13,
     "metadata": {},
     "output_type": "execute_result"
    }
   ],
   "source": [
    "x + y == add_2d_matrices(x,y)"
   ]
  },
  {
   "cell_type": "code",
   "execution_count": 19,
   "id": "4b9293cc-2a77-4842-8c1c-ae6380c68533",
   "metadata": {},
   "outputs": [
    {
     "data": {
      "text/plain": [
       "array([[-6, -6, -6],\n",
       "       [-6, -6, -6]], dtype=int32)"
      ]
     },
     "execution_count": 19,
     "metadata": {},
     "output_type": "execute_result"
    }
   ],
   "source": [
    "sub_2d_matrices(x,y)"
   ]
  },
  {
   "cell_type": "code",
   "execution_count": 20,
   "id": "8a6bd485-62c4-48d9-aeae-659cecc2b4b0",
   "metadata": {},
   "outputs": [
    {
     "data": {
      "text/plain": [
       "array([[ True,  True,  True],\n",
       "       [ True,  True,  True]])"
      ]
     },
     "execution_count": 20,
     "metadata": {},
     "output_type": "execute_result"
    }
   ],
   "source": [
    "x - y == sub_2d_matrices(x,y)"
   ]
  },
  {
   "cell_type": "code",
   "execution_count": 24,
   "id": "ba9fc9e1-f39d-4329-a798-e73cf4ab5d41",
   "metadata": {},
   "outputs": [],
   "source": [
    "# Iterate through all the values of matrix b and multiply by scalar a\n",
    "def scalar_mult(a, b):\n",
    "    c = np.empty_like(b)\n",
    "    for i in range(0,b.shape[0]):\n",
    "        for j in range(0,b.shape[1]): \n",
    "            c[i][j] = a * b[i][j]        \n",
    "    return c"
   ]
  },
  {
   "cell_type": "code",
   "execution_count": 25,
   "id": "390873fd-f432-41d1-aa07-e12038b2f60e",
   "metadata": {},
   "outputs": [
    {
     "data": {
      "text/plain": [
       "array([[ 2,  4,  6],\n",
       "       [ 8, 10, 12]], dtype=int32)"
      ]
     },
     "execution_count": 25,
     "metadata": {},
     "output_type": "execute_result"
    }
   ],
   "source": [
    "scalar_mult(2, x)"
   ]
  },
  {
   "cell_type": "code",
   "execution_count": 26,
   "id": "849f32eb-ce26-4d0b-aee5-0a2ac2c8f33c",
   "metadata": {},
   "outputs": [
    {
     "data": {
      "text/plain": [
       "array([[ True,  True,  True],\n",
       "       [ True,  True,  True]])"
      ]
     },
     "execution_count": 26,
     "metadata": {},
     "output_type": "execute_result"
    }
   ],
   "source": [
    "2 * x == scalar_mult(2, x)"
   ]
  },
  {
   "cell_type": "code",
   "execution_count": 47,
   "id": "13fafc87-4645-4d09-91fe-4397425c2782",
   "metadata": {},
   "outputs": [
    {
     "data": {
      "text/plain": [
       "array([1, 4], dtype=int32)"
      ]
     },
     "execution_count": 47,
     "metadata": {},
     "output_type": "execute_result"
    }
   ],
   "source": [
    "x[:,0]"
   ]
  },
  {
   "cell_type": "code",
   "execution_count": 46,
   "id": "01f47164-806e-4091-8f27-6836cc13d6e5",
   "metadata": {},
   "outputs": [
    {
     "data": {
      "text/plain": [
       "array([1, 2])"
      ]
     },
     "execution_count": 46,
     "metadata": {},
     "output_type": "execute_result"
    }
   ],
   "source": [
    "z[0]"
   ]
  },
  {
   "cell_type": "code",
   "execution_count": 51,
   "id": "7d6eae4d-ba73-4628-9109-a24e3fc51504",
   "metadata": {},
   "outputs": [
    {
     "data": {
      "text/plain": [
       "array([1, 8])"
      ]
     },
     "execution_count": 51,
     "metadata": {},
     "output_type": "execute_result"
    }
   ],
   "source": [
    "z[0] * x[:,0] # vector multiplication of the first row of z and first col of x"
   ]
  },
  {
   "cell_type": "code",
   "execution_count": 52,
   "id": "4b6031c3-1e80-415c-8126-e584bd49e5f1",
   "metadata": {},
   "outputs": [
    {
     "data": {
      "text/plain": [
       "np.int64(9)"
      ]
     },
     "execution_count": 52,
     "metadata": {},
     "output_type": "execute_result"
    }
   ],
   "source": [
    "sum(z[0] * x[:,0])"
   ]
  },
  {
   "cell_type": "code",
   "execution_count": 55,
   "id": "834fe3ee-fe7a-4fb4-81a3-dbae4976adda",
   "metadata": {},
   "outputs": [],
   "source": [
    "def mat_mul(a, b):\n",
    "    # Checking the matrix dimensions\n",
    "    if a.shape[1] != b.shape[0]:\n",
    "        return None\n",
    "    c = np.empty((a.shape[0], b.shape[1])) # empty matrix with first dimension of a and second of b\n",
    "    # iterate through each row of a and column of b\n",
    "    print(c.shape)\n",
    "    for i in range(0,a.shape[0]):#row\n",
    "        for j in range(0,b.shape[1]):#col \n",
    "            c[i][j] = sum(a[i] * b[:,j]) # using vector multiplication, then cheated a little and used sum to add up the vector\n",
    "            print(f\"c[{i}][{j}] : {c[i][j]}\")\n",
    "    return c"
   ]
  },
  {
   "cell_type": "code",
   "execution_count": 54,
   "id": "b2ced06e-0c83-4f4b-8b03-7183e6d0bc9b",
   "metadata": {},
   "outputs": [
    {
     "name": "stdout",
     "output_type": "stream",
     "text": [
      "(3, 3)\n",
      "c[0][0] : 9.0\n",
      "c[0][1] : 12.0\n",
      "c[0][2] : 15.0\n",
      "c[1][0] : 19.0\n",
      "c[1][1] : 26.0\n",
      "c[1][2] : 33.0\n",
      "c[2][0] : 29.0\n",
      "c[2][1] : 40.0\n",
      "c[2][2] : 51.0\n"
     ]
    },
    {
     "data": {
      "text/plain": [
       "array([[ 9., 12., 15.],\n",
       "       [19., 26., 33.],\n",
       "       [29., 40., 51.]])"
      ]
     },
     "execution_count": 54,
     "metadata": {},
     "output_type": "execute_result"
    }
   ],
   "source": [
    "z = np.array([[1, 2],[3, 4], [5, 6]])\n",
    "mat_mul(z,x)"
   ]
  },
  {
   "cell_type": "code",
   "execution_count": 58,
   "id": "2d5f6d62-deac-4617-bd87-506bdaf0f9f9",
   "metadata": {},
   "outputs": [],
   "source": [
    "def transpose(a):\n",
    "    c = np.empty((a.shape[1], a.shape[0]))\n",
    "    for i in range(0,a.shape[0]):\n",
    "        for j in range(0,a.shape[1]):\n",
    "            c[j][i] = a[i][j]\n",
    "    return c"
   ]
  },
  {
   "cell_type": "code",
   "execution_count": 59,
   "id": "802185c9-75f9-4aa5-97a2-b1bc54b770f2",
   "metadata": {},
   "outputs": [
    {
     "data": {
      "text/plain": [
       "array([[1., 3., 5.],\n",
       "       [2., 4., 6.]])"
      ]
     },
     "execution_count": 59,
     "metadata": {},
     "output_type": "execute_result"
    }
   ],
   "source": [
    "transpose(z)"
   ]
  },
  {
   "cell_type": "code",
   "execution_count": 60,
   "id": "219b8da8-0b8f-4d53-89ac-e4422d815919",
   "metadata": {},
   "outputs": [
    {
     "data": {
      "text/plain": [
       "array([[ True,  True,  True],\n",
       "       [ True,  True,  True]])"
      ]
     },
     "execution_count": 60,
     "metadata": {},
     "output_type": "execute_result"
    }
   ],
   "source": [
    "np.transpose(z) == transpose(z)"
   ]
  },
  {
   "cell_type": "code",
   "execution_count": null,
   "id": "e44ee80d-02ac-4d20-80f6-5ccbb9c7b00b",
   "metadata": {},
   "outputs": [],
   "source": []
  }
 ],
 "metadata": {
  "kernelspec": {
   "display_name": "Python 3 (ipykernel)",
   "language": "python",
   "name": "python3"
  },
  "language_info": {
   "codemirror_mode": {
    "name": "ipython",
    "version": 3
   },
   "file_extension": ".py",
   "mimetype": "text/x-python",
   "name": "python",
   "nbconvert_exporter": "python",
   "pygments_lexer": "ipython3",
   "version": "3.13.3"
  }
 },
 "nbformat": 4,
 "nbformat_minor": 5
}
