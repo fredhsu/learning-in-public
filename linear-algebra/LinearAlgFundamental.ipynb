{
 "cells": [
  {
   "cell_type": "markdown",
   "id": "ca178373-734f-439f-8493-63bd4d13f820",
   "metadata": {},
   "source": [
    "## Linear Algebra Fundamentals\n",
    "- **Practice** : Implement matrix operations, solve linear equations with NumPy \n",
    "- **Assignment** : Build PCA from scratch using only NumPy"
   ]
  },
  {
   "cell_type": "markdown",
   "id": "edcb2372-764f-40f2-9273-65ae67a2ddd6",
   "metadata": {},
   "source": [
    "The primary matrix operations are: \n",
    "Addition: Adding corresponding elements of two matrices of the same size.\n",
    "Subtraction: Subtracting corresponding elements of two matrices of the same size.\n",
    "Scalar Multiplication: Multiplying each element of a matrix by a constant.\n",
    "Matrix Multiplication: Multiplying two matrices (requires the number of columns in the first matrix to equal the number of rows in the second matrix).\n",
    "Transpose: Swapping the rows and columns of a matrix.\n",
    "Inverse: Finding a matrix that, when multiplied by the original matrix, results in the identity matrix (only applicable to square, non-singular matrices). "
   ]
  },
  {
   "cell_type": "code",
   "execution_count": 1,
   "id": "ae60de96-b314-4143-acd6-6bc7a4be0c7c",
   "metadata": {},
   "outputs": [],
   "source": [
    "import numpy as np"
   ]
  },
  {
   "cell_type": "code",
   "execution_count": 2,
   "id": "feed9622-6133-4726-a303-eb0f01f03a74",
   "metadata": {},
   "outputs": [],
   "source": [
    "def add_2d_matrices(a, b):\n",
    "    # creating a matix with the same dimensions as a\n",
    "    c = np.empty_like(a) # found this in the numpy docs for array creation: \n",
    "    # https://numpy.org/doc/2.2/reference/routines.array-creation.html#routines-array-creation\n",
    "    # iterate through each value in a and b, adding them and storing \n",
    "    # in the matrix c\n",
    "    for i in range(0,a.shape[0]):\n",
    "        for j in range(0,a.shape[1]): \n",
    "            c[i][j] = a[i][j] + b[i][j]\n",
    "        \n",
    "    return c"
   ]
  },
  {
   "cell_type": "code",
   "execution_count": 3,
   "id": "44cdde2b-6308-4f9a-a8a4-82007c02b225",
   "metadata": {},
   "outputs": [],
   "source": [
    "# mostly the same as adding, just subracting instead\n",
    "def sub_2d_matrices(a, b):\n",
    "    c = np.empty_like(a)\n",
    "    for i in range(0,a.shape[0]):\n",
    "        for j in range(0,a.shape[1]): \n",
    "            c[i][j] = a[i][j] - b[i][j]        \n",
    "    return c"
   ]
  },
  {
   "cell_type": "code",
   "execution_count": 4,
   "id": "390fbffa-d799-4c8c-b7c7-bdf1cc966c56",
   "metadata": {},
   "outputs": [],
   "source": [
    "x = np.array([[1, 2, 3], [4, 5, 6]], np.int32)\n",
    "y = np.array([[7, 8, 9], [10, 11, 12]], np.int32)\n"
   ]
  },
  {
   "cell_type": "code",
   "execution_count": 5,
   "id": "1815582b-0a10-4468-9c4c-aea6b19397d3",
   "metadata": {},
   "outputs": [
    {
     "data": {
      "text/plain": [
       "array([[ 8, 10, 12],\n",
       "       [14, 16, 18]], dtype=int32)"
      ]
     },
     "execution_count": 5,
     "metadata": {},
     "output_type": "execute_result"
    }
   ],
   "source": [
    "add_2d_matrices(x,y)"
   ]
  },
  {
   "cell_type": "code",
   "execution_count": 6,
   "id": "08ba912e-e527-4440-8c83-567e34f5d48c",
   "metadata": {},
   "outputs": [
    {
     "data": {
      "text/plain": [
       "array([[ True,  True,  True],\n",
       "       [ True,  True,  True]])"
      ]
     },
     "execution_count": 6,
     "metadata": {},
     "output_type": "execute_result"
    }
   ],
   "source": [
    "x + y == add_2d_matrices(x,y)"
   ]
  },
  {
   "cell_type": "code",
   "execution_count": 7,
   "id": "4b9293cc-2a77-4842-8c1c-ae6380c68533",
   "metadata": {},
   "outputs": [
    {
     "data": {
      "text/plain": [
       "array([[-6, -6, -6],\n",
       "       [-6, -6, -6]], dtype=int32)"
      ]
     },
     "execution_count": 7,
     "metadata": {},
     "output_type": "execute_result"
    }
   ],
   "source": [
    "sub_2d_matrices(x,y)"
   ]
  },
  {
   "cell_type": "code",
   "execution_count": 8,
   "id": "8a6bd485-62c4-48d9-aeae-659cecc2b4b0",
   "metadata": {},
   "outputs": [
    {
     "data": {
      "text/plain": [
       "array([[ True,  True,  True],\n",
       "       [ True,  True,  True]])"
      ]
     },
     "execution_count": 8,
     "metadata": {},
     "output_type": "execute_result"
    }
   ],
   "source": [
    "x - y == sub_2d_matrices(x,y)"
   ]
  },
  {
   "cell_type": "code",
   "execution_count": 9,
   "id": "ba9fc9e1-f39d-4329-a798-e73cf4ab5d41",
   "metadata": {},
   "outputs": [],
   "source": [
    "# Iterate through all the values of matrix b and multiply by scalar a\n",
    "def scalar_mult(a, b):\n",
    "    c = np.empty_like(b)\n",
    "    for i in range(0,b.shape[0]):\n",
    "        for j in range(0,b.shape[1]): \n",
    "            c[i][j] = a * b[i][j]        \n",
    "    return c"
   ]
  },
  {
   "cell_type": "code",
   "execution_count": 10,
   "id": "390873fd-f432-41d1-aa07-e12038b2f60e",
   "metadata": {},
   "outputs": [
    {
     "data": {
      "text/plain": [
       "array([[ 2,  4,  6],\n",
       "       [ 8, 10, 12]], dtype=int32)"
      ]
     },
     "execution_count": 10,
     "metadata": {},
     "output_type": "execute_result"
    }
   ],
   "source": [
    "scalar_mult(2, x)"
   ]
  },
  {
   "cell_type": "code",
   "execution_count": 11,
   "id": "849f32eb-ce26-4d0b-aee5-0a2ac2c8f33c",
   "metadata": {},
   "outputs": [
    {
     "data": {
      "text/plain": [
       "array([[ True,  True,  True],\n",
       "       [ True,  True,  True]])"
      ]
     },
     "execution_count": 11,
     "metadata": {},
     "output_type": "execute_result"
    }
   ],
   "source": [
    "2 * x == scalar_mult(2, x)"
   ]
  },
  {
   "cell_type": "code",
   "execution_count": 12,
   "id": "13fafc87-4645-4d09-91fe-4397425c2782",
   "metadata": {},
   "outputs": [
    {
     "data": {
      "text/plain": [
       "array([1, 4], dtype=int32)"
      ]
     },
     "execution_count": 12,
     "metadata": {},
     "output_type": "execute_result"
    }
   ],
   "source": [
    "x[:,0]"
   ]
  },
  {
   "cell_type": "code",
   "execution_count": 198,
   "id": "01f47164-806e-4091-8f27-6836cc13d6e5",
   "metadata": {},
   "outputs": [],
   "source": [
    "z = np.array([[1, 2],[3, 4], [5, 6]])"
   ]
  },
  {
   "cell_type": "code",
   "execution_count": 199,
   "id": "7d6eae4d-ba73-4628-9109-a24e3fc51504",
   "metadata": {},
   "outputs": [
    {
     "data": {
      "text/plain": [
       "array([1, 8])"
      ]
     },
     "execution_count": 199,
     "metadata": {},
     "output_type": "execute_result"
    }
   ],
   "source": [
    "z[0] * x[:,0] # vector multiplication of the first row of z and first col of x"
   ]
  },
  {
   "cell_type": "code",
   "execution_count": 200,
   "id": "4b6031c3-1e80-415c-8126-e584bd49e5f1",
   "metadata": {},
   "outputs": [
    {
     "data": {
      "text/plain": [
       "np.int64(9)"
      ]
     },
     "execution_count": 200,
     "metadata": {},
     "output_type": "execute_result"
    }
   ],
   "source": [
    "sum(z[0] * x[:,0])"
   ]
  },
  {
   "cell_type": "code",
   "execution_count": 201,
   "id": "834fe3ee-fe7a-4fb4-81a3-dbae4976adda",
   "metadata": {},
   "outputs": [],
   "source": [
    "def mat_mul(a, b):\n",
    "    # Checking the matrix dimensions\n",
    "    if a.shape[1] != b.shape[0]:\n",
    "        return None\n",
    "    c = np.empty((a.shape[0], b.shape[1])) # empty matrix with first dimension of a and second of b\n",
    "    # iterate through each row of a and column of b\n",
    "    print(c.shape)\n",
    "    for i in range(0,a.shape[0]):#row\n",
    "        for j in range(0,b.shape[1]):#col \n",
    "            c[i][j] = sum(a[i] * b[:,j]) # using vector multiplication, then cheated a little and used sum to add up the vector\n",
    "            print(f\"c[{i}][{j}] : {c[i][j]}\")\n",
    "    return c"
   ]
  },
  {
   "cell_type": "code",
   "execution_count": 202,
   "id": "b2ced06e-0c83-4f4b-8b03-7183e6d0bc9b",
   "metadata": {},
   "outputs": [
    {
     "name": "stdout",
     "output_type": "stream",
     "text": [
      "(3, 3)\n",
      "c[0][0] : 9.0\n",
      "c[0][1] : 12.0\n",
      "c[0][2] : 15.0\n",
      "c[1][0] : 19.0\n",
      "c[1][1] : 26.0\n",
      "c[1][2] : 33.0\n",
      "c[2][0] : 29.0\n",
      "c[2][1] : 40.0\n",
      "c[2][2] : 51.0\n"
     ]
    },
    {
     "data": {
      "text/plain": [
       "array([[ 9., 12., 15.],\n",
       "       [19., 26., 33.],\n",
       "       [29., 40., 51.]])"
      ]
     },
     "execution_count": 202,
     "metadata": {},
     "output_type": "execute_result"
    }
   ],
   "source": [
    "z = np.array([[1, 2],[3, 4], [5, 6]])\n",
    "mat_mul(z,x)"
   ]
  },
  {
   "cell_type": "code",
   "execution_count": 203,
   "id": "2d5f6d62-deac-4617-bd87-506bdaf0f9f9",
   "metadata": {},
   "outputs": [],
   "source": [
    "def transpose(a):\n",
    "    c = np.empty((a.shape[1], a.shape[0]))\n",
    "    for i in range(0,a.shape[0]):\n",
    "        for j in range(0,a.shape[1]):\n",
    "            c[j][i] = a[i][j]\n",
    "    return c"
   ]
  },
  {
   "cell_type": "code",
   "execution_count": 204,
   "id": "802185c9-75f9-4aa5-97a2-b1bc54b770f2",
   "metadata": {},
   "outputs": [
    {
     "data": {
      "text/plain": [
       "array([[1., 3., 5.],\n",
       "       [2., 4., 6.]])"
      ]
     },
     "execution_count": 204,
     "metadata": {},
     "output_type": "execute_result"
    }
   ],
   "source": [
    "transpose(z)"
   ]
  },
  {
   "cell_type": "code",
   "execution_count": 205,
   "id": "219b8da8-0b8f-4d53-89ac-e4422d815919",
   "metadata": {},
   "outputs": [
    {
     "data": {
      "text/plain": [
       "array([[ True,  True,  True],\n",
       "       [ True,  True,  True]])"
      ]
     },
     "execution_count": 205,
     "metadata": {},
     "output_type": "execute_result"
    }
   ],
   "source": [
    "np.transpose(z) == transpose(z)"
   ]
  },
  {
   "cell_type": "code",
   "execution_count": 206,
   "id": "e44ee80d-02ac-4d20-80f6-5ccbb9c7b00b",
   "metadata": {},
   "outputs": [],
   "source": [
    "def dot_product(a, b):\n",
    "    pairs = zip(a,b)\n",
    "    products = [x * y for (x,y) in pairs]\n",
    "    return sum(products)"
   ]
  },
  {
   "cell_type": "code",
   "execution_count": 207,
   "id": "cb323a79-d723-4805-8245-2c96ced55b5e",
   "metadata": {},
   "outputs": [
    {
     "data": {
      "text/plain": [
       "32"
      ]
     },
     "execution_count": 207,
     "metadata": {},
     "output_type": "execute_result"
    }
   ],
   "source": [
    "a = [1,2,3]\n",
    "b = [4,5,6]\n",
    "dot_product(a,b)"
   ]
  },
  {
   "cell_type": "code",
   "execution_count": 208,
   "id": "f8f4ab5e-c72c-4100-8c5a-b9a9bb155073",
   "metadata": {},
   "outputs": [
    {
     "data": {
      "text/plain": [
       "np.True_"
      ]
     },
     "execution_count": 208,
     "metadata": {},
     "output_type": "execute_result"
    }
   ],
   "source": [
    "dot_product(a,b) == np.dot(a,b)"
   ]
  },
  {
   "cell_type": "code",
   "execution_count": 209,
   "id": "818e6995-53b3-4b9a-b8b7-b1b40eedc801",
   "metadata": {},
   "outputs": [
    {
     "data": {
      "text/plain": [
       "array([1, 2, 3], dtype=int32)"
      ]
     },
     "execution_count": 209,
     "metadata": {},
     "output_type": "execute_result"
    }
   ],
   "source": [
    "x[0]"
   ]
  },
  {
   "cell_type": "code",
   "execution_count": 210,
   "id": "ac7b91a3-0806-4443-afb3-26858eaf9e9c",
   "metadata": {},
   "outputs": [
    {
     "data": {
      "text/plain": [
       "np.int64(22)"
      ]
     },
     "execution_count": 210,
     "metadata": {},
     "output_type": "execute_result"
    }
   ],
   "source": [
    "dot_product(x[0],z[:,0])"
   ]
  },
  {
   "cell_type": "code",
   "execution_count": 211,
   "id": "31f09184-dd11-4cbe-90d2-492dc51a5539",
   "metadata": {},
   "outputs": [],
   "source": [
    "# using dot product for matmul\n",
    "def mat_mul(a, b):\n",
    "    # Checking the matrix dimensions\n",
    "    if a.shape[1] != b.shape[0]:\n",
    "        return None\n",
    "    c = np.empty((a.shape[0], b.shape[1])) # empty matrix with first dimension of a and second of b\n",
    "    # iterate through each row of a and column of b\n",
    "    print(c.shape)\n",
    "    for i in range(0,a.shape[0]):#row\n",
    "        for j in range(0,b.shape[1]):#col \n",
    "            # using dot product\n",
    "            c[i][j] = dot_product(a[i],b[:,j])\n",
    "    return c"
   ]
  },
  {
   "cell_type": "code",
   "execution_count": 212,
   "id": "44b77232-36ea-4fcd-9b6d-f85fa74792e0",
   "metadata": {},
   "outputs": [
    {
     "name": "stdout",
     "output_type": "stream",
     "text": [
      "(3, 3)\n",
      "(3, 3)\n"
     ]
    },
    {
     "data": {
      "text/plain": [
       "array([[ 9., 12., 15.],\n",
       "       [19., 26., 33.],\n",
       "       [29., 40., 51.]])"
      ]
     },
     "execution_count": 212,
     "metadata": {},
     "output_type": "execute_result"
    }
   ],
   "source": [
    "mat_mul(z,x) == np.matmul(z,x)\n",
    "mat_mul(z,x)"
   ]
  },
  {
   "cell_type": "code",
   "execution_count": 213,
   "id": "8cb8106c-f506-4fac-ba02-a00c741d347c",
   "metadata": {},
   "outputs": [],
   "source": [
    "# trying matmul with enumerate, doesn't really help the code much\n",
    "def mat_mul(a, b):\n",
    "    # Checking the matrix dimensions\n",
    "    if a.shape[1] != b.shape[0]:\n",
    "        return None\n",
    "    c = np.empty((a.shape[0], b.shape[1])) # empty matrix with first dimension of a and second of b\n",
    "    # iterate through each row of a and column of b\n",
    "    print(c.shape)\n",
    "    for (i, v) in enumerate(z):\n",
    "        for (j,w) in enumerate(x.T):\n",
    "            c[i,j] == dot_product(v,w)\n",
    "    return c"
   ]
  },
  {
   "cell_type": "code",
   "execution_count": 214,
   "id": "7fa74df7-7ce6-4e8b-ad01-9ff084710a9f",
   "metadata": {},
   "outputs": [
    {
     "name": "stdout",
     "output_type": "stream",
     "text": [
      "(3, 3)\n"
     ]
    },
    {
     "data": {
      "text/plain": [
       "array([[ 9., 12., 15.],\n",
       "       [19., 26., 33.],\n",
       "       [29., 40., 51.]])"
      ]
     },
     "execution_count": 214,
     "metadata": {},
     "output_type": "execute_result"
    }
   ],
   "source": [
    "mat_mul(z,x)"
   ]
  },
  {
   "cell_type": "code",
   "execution_count": 215,
   "id": "a2aef181-e62c-4f6e-9670-237c52542f11",
   "metadata": {},
   "outputs": [
    {
     "data": {
      "text/plain": [
       "[[np.int64(9), np.int64(12), np.int64(15)],\n",
       " [np.int64(19), np.int64(26), np.int64(33)],\n",
       " [np.int64(29), np.int64(40), np.int64(51)]]"
      ]
     },
     "execution_count": 215,
     "metadata": {},
     "output_type": "execute_result"
    }
   ],
   "source": [
    "[[sum(a*b for a,b in zip(row, col)) for col in x.T] for row in z]"
   ]
  },
  {
   "cell_type": "code",
   "execution_count": 216,
   "id": "486f6b10-9bd1-4ab2-b0ab-e8fa21cfb9dd",
   "metadata": {},
   "outputs": [],
   "source": [
    "# matmul using list comprehension\n",
    "def mat_mul(a, b):\n",
    "    # Checking the matrix dimensions\n",
    "    if a.shape[1] != b.shape[0]:\n",
    "        return Nonek\n",
    "    else:\n",
    "        return [[sum(a*b for a,b in zip(row, col)) for col in x.T] for row in z]"
   ]
  },
  {
   "cell_type": "code",
   "execution_count": 217,
   "id": "0dbad13e-24e0-4656-865b-aaeaef62ce09",
   "metadata": {},
   "outputs": [
    {
     "data": {
      "text/plain": [
       "[[np.int64(9), np.int64(12), np.int64(15)],\n",
       " [np.int64(19), np.int64(26), np.int64(33)],\n",
       " [np.int64(29), np.int64(40), np.int64(51)]]"
      ]
     },
     "execution_count": 217,
     "metadata": {},
     "output_type": "execute_result"
    }
   ],
   "source": [
    "mat_mul(z,x)"
   ]
  },
  {
   "cell_type": "markdown",
   "id": "672dea76-e07b-4e03-be73-7ca87d667937",
   "metadata": {},
   "source": [
    "# Gram-Schmidt process"
   ]
  },
  {
   "cell_type": "code",
   "execution_count": 218,
   "id": "db18ac14-198e-4053-aee9-1bd529823080",
   "metadata": {},
   "outputs": [],
   "source": [
    "def proj(v, u): #projection of v onto u\n",
    "    return (np.dot(v,u) / np.dot(u,u))*u"
   ]
  },
  {
   "cell_type": "code",
   "execution_count": 219,
   "id": "46a50a41-458c-438f-9729-db091ebdca7d",
   "metadata": {},
   "outputs": [],
   "source": [
    "v1 = np.array([3,1])\n",
    "v2 = np.array([2,2])\n",
    "u1 = v1\n",
    "u2 = v2 - proj(v2, u1)"
   ]
  },
  {
   "cell_type": "code",
   "execution_count": 220,
   "id": "d4b46089-489c-4bdc-bfae-5ba5dcfdf13b",
   "metadata": {},
   "outputs": [
    {
     "name": "stdout",
     "output_type": "stream",
     "text": [
      "[3 1] [-0.4  1.2]\n"
     ]
    }
   ],
   "source": [
    "print(u1,u2)"
   ]
  },
  {
   "cell_type": "code",
   "execution_count": 221,
   "id": "8b4d80c9-f019-45fb-ab4b-a3e9a60f15bf",
   "metadata": {},
   "outputs": [],
   "source": [
    "def gs(s):\n",
    "    k = len(s) \n",
    "    u = [np.zeros(len(s[0]))] * k\n",
    "    for i in range(0,k):\n",
    "        progsum = np.zeros(len(s[0]))\n",
    "        for j in range (0, i):\n",
    "            progsum = progsum + proj(s[i],u[j])\n",
    "        u[i] = s[i] - progsum\n",
    "    return u"
   ]
  },
  {
   "cell_type": "code",
   "execution_count": 284,
   "id": "bf6ad01b-a8a5-4e0b-8090-585303932f8d",
   "metadata": {},
   "outputs": [],
   "source": [
    "def gs_v2(s): # cleanup with sum instead of for loop\n",
    "    k = len(s) \n",
    "    u = np.zeros((k, len(s[0]))) # cleaner initialization\n",
    "    for i in range(0,k):\n",
    "        u[i] = s[i] - sum([proj(s[i], e) for e in u[:i]])\n",
    "    return u"
   ]
  },
  {
   "cell_type": "code",
   "execution_count": 279,
   "id": "170ebeb6-d2fa-4c1f-88bb-c47872d89465",
   "metadata": {},
   "outputs": [
    {
     "data": {
      "text/plain": [
       "array([[ 3. ,  1. ],\n",
       "       [-0.4,  1.2]])"
      ]
     },
     "execution_count": 279,
     "metadata": {},
     "output_type": "execute_result"
    }
   ],
   "source": [
    "s=[v1,v2]\n",
    "u = gs_v2(s)\n",
    "u"
   ]
  },
  {
   "cell_type": "code",
   "execution_count": 280,
   "id": "92b6e573-ee60-4422-b684-803aa051905d",
   "metadata": {},
   "outputs": [
    {
     "data": {
      "text/plain": [
       "[array([0.9486833 , 0.31622777]), array([-0.31622777,  0.9486833 ])]"
      ]
     },
     "execution_count": 280,
     "metadata": {},
     "output_type": "execute_result"
    }
   ],
   "source": [
    "# Normalize the orthgonal basis for ONB\n",
    "[e/np.linalg.norm(e) for e in u]"
   ]
  },
  {
   "cell_type": "code",
   "execution_count": 281,
   "id": "e06e1995-34fb-41bb-afdb-55c0bb172c9e",
   "metadata": {},
   "outputs": [
    {
     "data": {
      "text/plain": [
       "array([[ 1. ,  1. ,  1. ,  1. ],\n",
       "       [ 1. ,  1. , -1. , -1. ],\n",
       "       [ 0.5, -0.5,  0.5, -0.5]])"
      ]
     },
     "execution_count": 281,
     "metadata": {},
     "output_type": "execute_result"
    }
   ],
   "source": [
    "s = [np.array([1,1,1,1]), np.array([1,1,-1,-1]), np.array([0,-1,2,1])]\n",
    "u = gs_v2(s)\n",
    "u #orthogonal basis"
   ]
  },
  {
   "cell_type": "code",
   "execution_count": 282,
   "id": "8480793a-d742-4564-a7b5-9ab901e29ede",
   "metadata": {},
   "outputs": [
    {
     "data": {
      "text/plain": [
       "[array([0.5, 0.5, 0.5, 0.5]),\n",
       " array([ 0.5,  0.5, -0.5, -0.5]),\n",
       " array([ 0.5, -0.5,  0.5, -0.5])]"
      ]
     },
     "execution_count": 282,
     "metadata": {},
     "output_type": "execute_result"
    }
   ],
   "source": [
    "# Normalize the orthgonal basis for ONB\n",
    "[e/np.linalg.norm(e) for e in u]"
   ]
  },
  {
   "cell_type": "code",
   "execution_count": 283,
   "id": "caad0087-7841-402b-a4b1-1b9d36961706",
   "metadata": {},
   "outputs": [
    {
     "name": "stdout",
     "output_type": "stream",
     "text": [
      "[array([ 1., -1.,  1.]), array([0.33333333, 0.66666667, 0.33333333]), array([-5.00000000e-01,  1.11022302e-16,  5.00000000e-01])]\n",
      "[[ 1.00000000e+00 -1.00000000e+00  1.00000000e+00]\n",
      " [ 3.33333333e-01  6.66666667e-01  3.33333333e-01]\n",
      " [-5.00000000e-01  1.11022302e-16  5.00000000e-01]]\n"
     ]
    }
   ],
   "source": [
    "# from this example: https://math.hmc.edu/calculus/hmc-mathematics-calculus-online-tutorials/linear-algebra/gram-schmidt-method/\n",
    "s = [np.array([1,-1,1]), np.array([1,0,1]), np.array([1,1,2])]\n",
    "u = gs(s)\n",
    "print(u) # result should be [1,-1, 1], [1/3, 2/3, 1/3], [-1/2, 0, 1/2]\n",
    "u2 = gs_v2(s)\n",
    "print(u2)"
   ]
  },
  {
   "cell_type": "code",
   "execution_count": 277,
   "id": "416db9a1-887f-49c5-9a71-fa1ffcf9e4ae",
   "metadata": {},
   "outputs": [
    {
     "data": {
      "text/plain": [
       "[array([ 0.57735027, -0.57735027,  0.57735027]),\n",
       " array([0.40824829, 0.81649658, 0.40824829]),\n",
       " array([-7.07106781e-01,  1.57009246e-16,  7.07106781e-01])]"
      ]
     },
     "execution_count": 277,
     "metadata": {},
     "output_type": "execute_result"
    }
   ],
   "source": [
    "[e/np.linalg.norm(e) for e in u2] "
   ]
  }
 ],
 "metadata": {
  "kernelspec": {
   "display_name": "Python 3 (ipykernel)",
   "language": "python",
   "name": "python3"
  },
  "language_info": {
   "codemirror_mode": {
    "name": "ipython",
    "version": 3
   },
   "file_extension": ".py",
   "mimetype": "text/x-python",
   "name": "python",
   "nbconvert_exporter": "python",
   "pygments_lexer": "ipython3",
   "version": "3.13.5"
  }
 },
 "nbformat": 4,
 "nbformat_minor": 5
}
